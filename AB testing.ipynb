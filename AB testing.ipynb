{
 "cells": [
  {
   "cell_type": "code",
   "execution_count": 62,
   "metadata": {
    "executionInfo": {
     "elapsed": 344,
     "status": "ok",
     "timestamp": 1626941017624,
     "user": {
      "displayName": "Ron Darmon",
      "photoUrl": "https://lh3.googleusercontent.com/a-/AOh14GhTxpQYeLsTUeKxiuoJ63E4gn7FxPj0DRq0f1dNUq0=s64",
      "userId": "12470052646638953532"
     },
     "user_tz": -180
    },
    "id": "fuk0LXGiCYHT"
   },
   "outputs": [],
   "source": [
    "# basic\n",
    "import numpy as np\n",
    "import pandas as pd\n",
    "import matplotlib.pyplot as plt\n",
    "import seaborn as sns\n",
    "\n",
    "\n",
    "#Hypothesis testing\n",
    "from scipy.stats import shapiro\n",
    "import scipy.stats as stats\n",
    "\n",
    "\n",
    "#settings\n",
    "import warnings\n",
    "warnings.filterwarnings(\"ignore\")\n",
    "from IPython.display import clear_output\n",
    "import time"
   ]
  },
  {
   "cell_type": "code",
   "execution_count": 63,
   "metadata": {
    "colab": {
     "base_uri": "https://localhost:8080/",
     "height": 204
    },
    "executionInfo": {
     "elapsed": 686,
     "status": "ok",
     "timestamp": 1626941018291,
     "user": {
      "displayName": "Ron Darmon",
      "photoUrl": "https://lh3.googleusercontent.com/a-/AOh14GhTxpQYeLsTUeKxiuoJ63E4gn7FxPj0DRq0f1dNUq0=s64",
      "userId": "12470052646638953532"
     },
     "user_tz": -180
    },
    "id": "nOBLwjgSDz7S",
    "outputId": "8063b816-59d4-4e79-cb29-11b5faec32aa"
   },
   "outputs": [
    {
     "data": {
      "text/html": [
       "<div>\n",
       "<style scoped>\n",
       "    .dataframe tbody tr th:only-of-type {\n",
       "        vertical-align: middle;\n",
       "    }\n",
       "\n",
       "    .dataframe tbody tr th {\n",
       "        vertical-align: top;\n",
       "    }\n",
       "\n",
       "    .dataframe thead th {\n",
       "        text-align: right;\n",
       "    }\n",
       "</style>\n",
       "<table border=\"1\" class=\"dataframe\">\n",
       "  <thead>\n",
       "    <tr style=\"text-align: right;\">\n",
       "      <th></th>\n",
       "      <th>userid</th>\n",
       "      <th>version</th>\n",
       "      <th>sum_gamerounds</th>\n",
       "      <th>retention_1</th>\n",
       "      <th>retention_7</th>\n",
       "    </tr>\n",
       "  </thead>\n",
       "  <tbody>\n",
       "    <tr>\n",
       "      <th>0</th>\n",
       "      <td>116</td>\n",
       "      <td>gate_30</td>\n",
       "      <td>3</td>\n",
       "      <td>False</td>\n",
       "      <td>False</td>\n",
       "    </tr>\n",
       "    <tr>\n",
       "      <th>1</th>\n",
       "      <td>337</td>\n",
       "      <td>gate_30</td>\n",
       "      <td>38</td>\n",
       "      <td>True</td>\n",
       "      <td>False</td>\n",
       "    </tr>\n",
       "    <tr>\n",
       "      <th>2</th>\n",
       "      <td>377</td>\n",
       "      <td>gate_40</td>\n",
       "      <td>165</td>\n",
       "      <td>True</td>\n",
       "      <td>False</td>\n",
       "    </tr>\n",
       "    <tr>\n",
       "      <th>3</th>\n",
       "      <td>483</td>\n",
       "      <td>gate_40</td>\n",
       "      <td>1</td>\n",
       "      <td>False</td>\n",
       "      <td>False</td>\n",
       "    </tr>\n",
       "    <tr>\n",
       "      <th>4</th>\n",
       "      <td>488</td>\n",
       "      <td>gate_40</td>\n",
       "      <td>179</td>\n",
       "      <td>True</td>\n",
       "      <td>True</td>\n",
       "    </tr>\n",
       "  </tbody>\n",
       "</table>\n",
       "</div>"
      ],
      "text/plain": [
       "   userid  version  sum_gamerounds  retention_1  retention_7\n",
       "0     116  gate_30               3        False        False\n",
       "1     337  gate_30              38         True        False\n",
       "2     377  gate_40             165         True        False\n",
       "3     483  gate_40               1        False        False\n",
       "4     488  gate_40             179         True         True"
      ]
     },
     "execution_count": 63,
     "metadata": {},
     "output_type": "execute_result"
    }
   ],
   "source": [
    "df = pd.read_csv('cookie_cats.csv')\n",
    "df.head()"
   ]
  },
  {
   "cell_type": "code",
   "execution_count": 64,
   "metadata": {
    "colab": {
     "base_uri": "https://localhost:8080/"
    },
    "executionInfo": {
     "elapsed": 29,
     "status": "ok",
     "timestamp": 1626941018295,
     "user": {
      "displayName": "Ron Darmon",
      "photoUrl": "https://lh3.googleusercontent.com/a-/AOh14GhTxpQYeLsTUeKxiuoJ63E4gn7FxPj0DRq0f1dNUq0=s64",
      "userId": "12470052646638953532"
     },
     "user_tz": -180
    },
    "id": "kfg5-lABD5QQ",
    "outputId": "ca684fe8-6519-4baf-d829-201af006c187"
   },
   "outputs": [
    {
     "name": "stdout",
     "output_type": "stream",
     "text": [
      "<class 'pandas.core.frame.DataFrame'>\n",
      "RangeIndex: 90189 entries, 0 to 90188\n",
      "Data columns (total 5 columns):\n",
      " #   Column          Non-Null Count  Dtype \n",
      "---  ------          --------------  ----- \n",
      " 0   userid          90189 non-null  int64 \n",
      " 1   version         90189 non-null  object\n",
      " 2   sum_gamerounds  90189 non-null  int64 \n",
      " 3   retention_1     90189 non-null  bool  \n",
      " 4   retention_7     90189 non-null  bool  \n",
      "dtypes: bool(2), int64(2), object(1)\n",
      "memory usage: 2.2+ MB\n"
     ]
    }
   ],
   "source": [
    "df.info()"
   ]
  },
  {
   "cell_type": "code",
   "execution_count": 65,
   "metadata": {
    "executionInfo": {
     "elapsed": 2,
     "status": "ok",
     "timestamp": 1626941018617,
     "user": {
      "displayName": "Ron Darmon",
      "photoUrl": "https://lh3.googleusercontent.com/a-/AOh14GhTxpQYeLsTUeKxiuoJ63E4gn7FxPj0DRq0f1dNUq0=s64",
      "userId": "12470052646638953532"
     },
     "user_tz": -180
    },
    "id": "nuCsDTtNEWXA"
   },
   "outputs": [],
   "source": [
    "def missing_info(data):\n",
    "  '''\n",
    "  Missing info function to check the missing values by count, % and unique values.\n",
    "  '''\n",
    "  details = pd.DataFrame()\n",
    "  details['missing_values'] = round(data.isnull().sum())\n",
    "  details['missing_values_%'] = round((data.isnull().sum()/len(data))*100,2)\n",
    "  details['N_unique'] = data.nunique()\n",
    "  details['dtype'] = data.dtypes\n",
    "  details['mode'] = [data[col].value_counts().index[0] for col in data]\n",
    "  return details"
   ]
  },
  {
   "cell_type": "code",
   "execution_count": 66,
   "metadata": {
    "colab": {
     "base_uri": "https://localhost:8080/",
     "height": 204
    },
    "executionInfo": {
     "elapsed": 8,
     "status": "ok",
     "timestamp": 1626941019699,
     "user": {
      "displayName": "Ron Darmon",
      "photoUrl": "https://lh3.googleusercontent.com/a-/AOh14GhTxpQYeLsTUeKxiuoJ63E4gn7FxPj0DRq0f1dNUq0=s64",
      "userId": "12470052646638953532"
     },
     "user_tz": -180
    },
    "id": "a75SLFL0Eo7P",
    "outputId": "605f041c-0465-473c-d5f4-ede0c0bd0e8e"
   },
   "outputs": [
    {
     "data": {
      "text/html": [
       "<div>\n",
       "<style scoped>\n",
       "    .dataframe tbody tr th:only-of-type {\n",
       "        vertical-align: middle;\n",
       "    }\n",
       "\n",
       "    .dataframe tbody tr th {\n",
       "        vertical-align: top;\n",
       "    }\n",
       "\n",
       "    .dataframe thead th {\n",
       "        text-align: right;\n",
       "    }\n",
       "</style>\n",
       "<table border=\"1\" class=\"dataframe\">\n",
       "  <thead>\n",
       "    <tr style=\"text-align: right;\">\n",
       "      <th></th>\n",
       "      <th>missing_values</th>\n",
       "      <th>missing_values_%</th>\n",
       "      <th>N_unique</th>\n",
       "      <th>dtype</th>\n",
       "      <th>mode</th>\n",
       "    </tr>\n",
       "  </thead>\n",
       "  <tbody>\n",
       "    <tr>\n",
       "      <th>userid</th>\n",
       "      <td>0</td>\n",
       "      <td>0.0</td>\n",
       "      <td>90189</td>\n",
       "      <td>int64</td>\n",
       "      <td>5793317</td>\n",
       "    </tr>\n",
       "    <tr>\n",
       "      <th>version</th>\n",
       "      <td>0</td>\n",
       "      <td>0.0</td>\n",
       "      <td>2</td>\n",
       "      <td>object</td>\n",
       "      <td>gate_40</td>\n",
       "    </tr>\n",
       "    <tr>\n",
       "      <th>sum_gamerounds</th>\n",
       "      <td>0</td>\n",
       "      <td>0.0</td>\n",
       "      <td>942</td>\n",
       "      <td>int64</td>\n",
       "      <td>1</td>\n",
       "    </tr>\n",
       "    <tr>\n",
       "      <th>retention_1</th>\n",
       "      <td>0</td>\n",
       "      <td>0.0</td>\n",
       "      <td>2</td>\n",
       "      <td>bool</td>\n",
       "      <td>False</td>\n",
       "    </tr>\n",
       "    <tr>\n",
       "      <th>retention_7</th>\n",
       "      <td>0</td>\n",
       "      <td>0.0</td>\n",
       "      <td>2</td>\n",
       "      <td>bool</td>\n",
       "      <td>False</td>\n",
       "    </tr>\n",
       "  </tbody>\n",
       "</table>\n",
       "</div>"
      ],
      "text/plain": [
       "                missing_values  missing_values_%  N_unique   dtype     mode\n",
       "userid                       0               0.0     90189   int64  5793317\n",
       "version                      0               0.0         2  object  gate_40\n",
       "sum_gamerounds               0               0.0       942   int64        1\n",
       "retention_1                  0               0.0         2    bool    False\n",
       "retention_7                  0               0.0         2    bool    False"
      ]
     },
     "execution_count": 66,
     "metadata": {},
     "output_type": "execute_result"
    }
   ],
   "source": [
    "missing_info(df)"
   ]
  },
  {
   "cell_type": "markdown",
   "metadata": {
    "id": "c7E7xjR2Exv2"
   },
   "source": [
    "###we can see there are no duplicate users in the userid"
   ]
  },
  {
   "cell_type": "markdown",
   "metadata": {
    "id": "eStxf14OFGms"
   },
   "source": [
    "#EDA"
   ]
  },
  {
   "cell_type": "code",
   "execution_count": 67,
   "metadata": {
    "colab": {
     "base_uri": "https://localhost:8080/",
     "height": 142
    },
    "executionInfo": {
     "elapsed": 8,
     "status": "ok",
     "timestamp": 1626941021078,
     "user": {
      "displayName": "Ron Darmon",
      "photoUrl": "https://lh3.googleusercontent.com/a-/AOh14GhTxpQYeLsTUeKxiuoJ63E4gn7FxPj0DRq0f1dNUq0=s64",
      "userId": "12470052646638953532"
     },
     "user_tz": -180
    },
    "id": "lS_h7GEGFHyo",
    "outputId": "9baedfec-a5a8-40d0-cf79-9e8c5233e14b"
   },
   "outputs": [
    {
     "data": {
      "text/html": [
       "<div>\n",
       "<style scoped>\n",
       "    .dataframe tbody tr th:only-of-type {\n",
       "        vertical-align: middle;\n",
       "    }\n",
       "\n",
       "    .dataframe tbody tr th {\n",
       "        vertical-align: top;\n",
       "    }\n",
       "\n",
       "    .dataframe thead th {\n",
       "        text-align: right;\n",
       "    }\n",
       "</style>\n",
       "<table border=\"1\" class=\"dataframe\">\n",
       "  <thead>\n",
       "    <tr style=\"text-align: right;\">\n",
       "      <th></th>\n",
       "      <th>count</th>\n",
       "      <th>mean</th>\n",
       "      <th>median</th>\n",
       "      <th>std</th>\n",
       "      <th>max</th>\n",
       "    </tr>\n",
       "    <tr>\n",
       "      <th>version</th>\n",
       "      <th></th>\n",
       "      <th></th>\n",
       "      <th></th>\n",
       "      <th></th>\n",
       "      <th></th>\n",
       "    </tr>\n",
       "  </thead>\n",
       "  <tbody>\n",
       "    <tr>\n",
       "      <th>gate_30</th>\n",
       "      <td>44700</td>\n",
       "      <td>52.456264</td>\n",
       "      <td>17</td>\n",
       "      <td>256.716423</td>\n",
       "      <td>49854</td>\n",
       "    </tr>\n",
       "    <tr>\n",
       "      <th>gate_40</th>\n",
       "      <td>45489</td>\n",
       "      <td>51.298776</td>\n",
       "      <td>16</td>\n",
       "      <td>103.294416</td>\n",
       "      <td>2640</td>\n",
       "    </tr>\n",
       "  </tbody>\n",
       "</table>\n",
       "</div>"
      ],
      "text/plain": [
       "         count       mean  median         std    max\n",
       "version                                             \n",
       "gate_30  44700  52.456264      17  256.716423  49854\n",
       "gate_40  45489  51.298776      16  103.294416   2640"
      ]
     },
     "execution_count": 67,
     "metadata": {},
     "output_type": "execute_result"
    }
   ],
   "source": [
    "#Summary stats per version\n",
    "df.groupby('version')['sum_gamerounds'].agg(['count','mean','median','std','max'])\n"
   ]
  },
  {
   "cell_type": "code",
   "execution_count": 68,
   "metadata": {
    "colab": {
     "base_uri": "https://localhost:8080/",
     "height": 801
    },
    "executionInfo": {
     "elapsed": 289849,
     "status": "ok",
     "timestamp": 1626941409275,
     "user": {
      "displayName": "Ron Darmon",
      "photoUrl": "https://lh3.googleusercontent.com/a-/AOh14GhTxpQYeLsTUeKxiuoJ63E4gn7FxPj0DRq0f1dNUq0=s64",
      "userId": "12470052646638953532"
     },
     "user_tz": -180
    },
    "id": "c4zKBpwdOne3",
    "outputId": "7e7a6be9-bd67-4487-f3a8-7c3cf2dddece"
   },
   "outputs": [
    {
     "data": {
      "text/plain": [
       "<matplotlib.axes._subplots.AxesSubplot at 0x7fc5301676d0>"
      ]
     },
     "execution_count": 68,
     "metadata": {},
     "output_type": "execute_result"
    },
    {
     "data": {
      "image/png": "[encoded data removed]",
      "text/plain": [
       "<Figure size 432x288 with 1 Axes>"
      ]
     },
     "metadata": {
      "needs_background": "light"
     },
     "output_type": "display_data"
    }
   ],
   "source": [
    "sns.scatterplot(data=df,x='version',y='sum_gamerounds')"
   ]
  },
  {
   "cell_type": "code",
   "execution_count": 69,
   "metadata": {
    "colab": {
     "base_uri": "https://localhost:8080/",
     "height": 406
    },
    "executionInfo": {
     "elapsed": 33164,
     "status": "ok",
     "timestamp": 1626940737078,
     "user": {
      "displayName": "Ron Darmon",
      "photoUrl": "https://lh3.googleusercontent.com/a-/AOh14GhTxpQYeLsTUeKxiuoJ63E4gn7FxPj0DRq0f1dNUq0=s64",
      "userId": "12470052646638953532"
     },
     "user_tz": -180
    },
    "id": "BIzd3AbrFO92",
    "outputId": "12acb740-50f4-4f91-88b3-063233a17040"
   },
   "outputs": [
    {
     "data": {
      "image/png": "[encoded data removed]",
      "text/plain": [
       "<Figure size 1224x360 with 3 Axes>"
      ]
     },
     "metadata": {
      "needs_background": "light"
     },
     "output_type": "display_data"
    }
   ],
   "source": [
    "def plot_dist(df):\n",
    "    fig,axes = plt.subplots(nrows=1,ncols=3, figsize=(17,5))\n",
    "    sns.histplot(df,x='sum_gamerounds',label='hist',multiple='dodge',hue='version',ax=axes[0],shrink=.8, binwidth=10,palette='mako')\n",
    "    sns.boxplot(data=df,x='version',y='sum_gamerounds',ax=axes[1],palette='mako')\n",
    "    sns.scatterplot(data=df,x='version',y='sum_gamerounds',ax=axes[2],palette='mako')\n",
    "    axes[0].set_xlim(0, 200)\n",
    "    axes[1].set_yscale('log')\n",
    "    axes[0].set_title('Dist by version', fontsize=14)\n",
    "    axes[1].set_title('Boxplot by version', fontsize=14)\n",
    "    axes[2].set_title('Scatterplot by version');\n",
    "\n",
    "plot_dist(df)"
   ]
  },
  {
   "cell_type": "code",
   "execution_count": 70,
   "metadata": {},
   "outputs": [
    {
     "data": {
      "text/html": [
       "<div>\n",
       "<style scoped>\n",
       "    .dataframe tbody tr th:only-of-type {\n",
       "        vertical-align: middle;\n",
       "    }\n",
       "\n",
       "    .dataframe tbody tr th {\n",
       "        vertical-align: top;\n",
       "    }\n",
       "\n",
       "    .dataframe thead th {\n",
       "        text-align: right;\n",
       "    }\n",
       "</style>\n",
       "<table border=\"1\" class=\"dataframe\">\n",
       "  <thead>\n",
       "    <tr style=\"text-align: right;\">\n",
       "      <th></th>\n",
       "      <th>sum_gamerounds</th>\n",
       "    </tr>\n",
       "  </thead>\n",
       "  <tbody>\n",
       "    <tr>\n",
       "      <th>count</th>\n",
       "      <td>90189.000000</td>\n",
       "    </tr>\n",
       "    <tr>\n",
       "      <th>mean</th>\n",
       "      <td>51.872457</td>\n",
       "    </tr>\n",
       "    <tr>\n",
       "      <th>std</th>\n",
       "      <td>195.050858</td>\n",
       "    </tr>\n",
       "    <tr>\n",
       "      <th>min</th>\n",
       "      <td>0.000000</td>\n",
       "    </tr>\n",
       "    <tr>\n",
       "      <th>1%</th>\n",
       "      <td>0.000000</td>\n",
       "    </tr>\n",
       "    <tr>\n",
       "      <th>5%</th>\n",
       "      <td>1.000000</td>\n",
       "    </tr>\n",
       "    <tr>\n",
       "      <th>10%</th>\n",
       "      <td>1.000000</td>\n",
       "    </tr>\n",
       "    <tr>\n",
       "      <th>20%</th>\n",
       "      <td>3.000000</td>\n",
       "    </tr>\n",
       "    <tr>\n",
       "      <th>50%</th>\n",
       "      <td>16.000000</td>\n",
       "    </tr>\n",
       "    <tr>\n",
       "      <th>80%</th>\n",
       "      <td>67.000000</td>\n",
       "    </tr>\n",
       "    <tr>\n",
       "      <th>90%</th>\n",
       "      <td>134.000000</td>\n",
       "    </tr>\n",
       "    <tr>\n",
       "      <th>95%</th>\n",
       "      <td>221.000000</td>\n",
       "    </tr>\n",
       "    <tr>\n",
       "      <th>99%</th>\n",
       "      <td>493.000000</td>\n",
       "    </tr>\n",
       "    <tr>\n",
       "      <th>max</th>\n",
       "      <td>49854.000000</td>\n",
       "    </tr>\n",
       "  </tbody>\n",
       "</table>\n",
       "</div>"
      ],
      "text/plain": [
       "       sum_gamerounds\n",
       "count    90189.000000\n",
       "mean        51.872457\n",
       "std        195.050858\n",
       "min          0.000000\n",
       "1%           0.000000\n",
       "5%           1.000000\n",
       "10%          1.000000\n",
       "20%          3.000000\n",
       "50%         16.000000\n",
       "80%         67.000000\n",
       "90%        134.000000\n",
       "95%        221.000000\n",
       "99%        493.000000\n",
       "max      49854.000000"
      ]
     },
     "execution_count": 70,
     "metadata": {},
     "output_type": "execute_result"
    }
   ],
   "source": [
    "df.describe([0.01, 0.05, 0.10, 0.20, 0.80, 0.90, 0.95, 0.99])[[\"sum_gamerounds\"]]"
   ]
  },
  {
   "cell_type": "markdown",
   "metadata": {},
   "source": [
    "### we can see there is 1 outliner which needs to be dropped"
   ]
  },
  {
   "cell_type": "code",
   "execution_count": 71,
   "metadata": {
    "colab": {
     "base_uri": "https://localhost:8080/",
     "height": 406
    },
    "executionInfo": {
     "elapsed": 2887,
     "status": "ok",
     "timestamp": 1626940750284,
     "user": {
      "displayName": "Ron Darmon",
      "photoUrl": "https://lh3.googleusercontent.com/a-/AOh14GhTxpQYeLsTUeKxiuoJ63E4gn7FxPj0DRq0f1dNUq0=s64",
      "userId": "12470052646638953532"
     },
     "user_tz": -180
    },
    "id": "pSKAMXwXHTVM",
    "outputId": "e2409a47-f3e8-44a0-f284-03baaeb45dee"
   },
   "outputs": [
    {
     "data": {
      "image/png": "[encoded data removed]",
      "text/plain": [
       "<Figure size 1224x360 with 3 Axes>"
      ]
     },
     "metadata": {
      "needs_background": "light"
     },
     "output_type": "display_data"
    }
   ],
   "source": [
    "#remove outliers\n",
    "df = df[df.sum_gamerounds < df.sum_gamerounds.max()]\n",
    "\n",
    "plot_dist(df)"
   ]
  },
  {
   "cell_type": "code",
   "execution_count": 72,
   "metadata": {
    "id": "61JxtEdcN28q"
   },
   "outputs": [
    {
     "data": {
      "text/html": [
       "<div>\n",
       "<style scoped>\n",
       "    .dataframe tbody tr th:only-of-type {\n",
       "        vertical-align: middle;\n",
       "    }\n",
       "\n",
       "    .dataframe tbody tr th {\n",
       "        vertical-align: top;\n",
       "    }\n",
       "\n",
       "    .dataframe thead th {\n",
       "        text-align: right;\n",
       "    }\n",
       "</style>\n",
       "<table border=\"1\" class=\"dataframe\">\n",
       "  <thead>\n",
       "    <tr style=\"text-align: right;\">\n",
       "      <th></th>\n",
       "      <th>count</th>\n",
       "      <th>mean</th>\n",
       "      <th>median</th>\n",
       "      <th>std</th>\n",
       "      <th>max</th>\n",
       "    </tr>\n",
       "    <tr>\n",
       "      <th>version</th>\n",
       "      <th></th>\n",
       "      <th></th>\n",
       "      <th></th>\n",
       "      <th></th>\n",
       "      <th></th>\n",
       "    </tr>\n",
       "  </thead>\n",
       "  <tbody>\n",
       "    <tr>\n",
       "      <th>gate_30</th>\n",
       "      <td>44699</td>\n",
       "      <td>51.342111</td>\n",
       "      <td>17</td>\n",
       "      <td>102.057598</td>\n",
       "      <td>2961</td>\n",
       "    </tr>\n",
       "    <tr>\n",
       "      <th>gate_40</th>\n",
       "      <td>45489</td>\n",
       "      <td>51.298776</td>\n",
       "      <td>16</td>\n",
       "      <td>103.294416</td>\n",
       "      <td>2640</td>\n",
       "    </tr>\n",
       "  </tbody>\n",
       "</table>\n",
       "</div>"
      ],
      "text/plain": [
       "         count       mean  median         std   max\n",
       "version                                            \n",
       "gate_30  44699  51.342111      17  102.057598  2961\n",
       "gate_40  45489  51.298776      16  103.294416  2640"
      ]
     },
     "execution_count": 72,
     "metadata": {},
     "output_type": "execute_result"
    }
   ],
   "source": [
    "df.groupby('version')['sum_gamerounds'].agg(['count','mean','median','std','max'])"
   ]
  },
  {
   "cell_type": "markdown",
   "metadata": {},
   "source": [
    "# A/B Testing\n",
    "- split the df (test & control).\n",
    "- Shapiro-Wilk test.\n",
    "    * if reject - Mann-Whitney U test\n",
    "    * if accept - Levene Test for Homogeneity of variances  \n",
    "         * if accept -> use T-Test\n",
    "         * if reject -> use Welch Test\n",
    "         "
   ]
  },
  {
   "cell_type": "code",
   "execution_count": 73,
   "metadata": {},
   "outputs": [],
   "source": [
    "group_A = df[df['version']=='gate_30']\n",
    "group_B = df[df['version']=='gate_40']\n",
    "colors = [\"tab:blue\",\"tab:orange\"]"
   ]
  },
  {
   "cell_type": "code",
   "execution_count": 74,
   "metadata": {},
   "outputs": [
    {
     "data": {
      "text/plain": [
       "Index(['userid', 'version', 'sum_gamerounds', 'retention_1', 'retention_7'], dtype='object')"
      ]
     },
     "execution_count": 74,
     "metadata": {},
     "output_type": "execute_result"
    }
   ],
   "source": [
    "df.columns"
   ]
  },
  {
   "cell_type": "code",
   "execution_count": 75,
   "metadata": {},
   "outputs": [],
   "source": [
    "#I'm going to use 3 metrics for the A/B testing.\n",
    "variables = ['sum_gamerounds','retention_1','retention_7']"
   ]
  },
  {
   "cell_type": "code",
   "execution_count": 76,
   "metadata": {},
   "outputs": [],
   "source": [
    "def AB_test(group_A,group_B,var):\n",
    "    ### 1st step: shapiro_wilk test:\n",
    "    test_stat_A, shapiro_pval_A = shapiro(group_A[var])\n",
    "    test_stat_B, shapiro_pval_B = shapiro(group_B[var])\n",
    "    print(f\"Shapiro_Wilk_Test:\\n\\tGroupֹA pval={shapiro_pval_A} ,GroupֹB pval={shapiro_pval_B}\\n\\n\\n\")\n",
    "    \n",
    "    ##2nd step - incase normal distribution\n",
    "    if (shapiro_pval_A>0.05 and shapiro_pval_B>0.05):\n",
    "        print(\"We accept H0, hence the distribution of the 2 groups is normal/n\")\n",
    "        \n",
    " \n",
    "        # Levene Test for Homogeneity of variances\n",
    "        # H0: Homogeneity\n",
    "        # H1: HomogeneitY\n",
    "        levene_test = stats.levene(group_A[var], group_B[var])[1]\n",
    "        \n",
    "\n",
    "        if levene_test[1]  > 0.5:\n",
    "\n",
    "            print(\"We accept the null hypothesis, hence the distribution of the 2 groups is homogeous/n \")\n",
    "            ttest = stats.ttest_ind(group_A[var], group_B[var], equal_var=True)\n",
    "            # H0: VARA == VARB \n",
    "            # H1: VARA != VARB\n",
    "        else:\n",
    "            # Heterogeneous\n",
    "            print(\"We reject the null hypothesis, hence the distribution of the 2 groups is not homogeous/n \")\n",
    "            ttest = stats.ttest_ind(group_A[var], group_B[var], equal_var=False)\n",
    "            # H0: VARA == VARB\n",
    "            # H1: VARA != VARB \n",
    "    \n",
    "    #2nd step - in case not normal distribution Mann-Whitney U test\n",
    "    else:\n",
    "        # we Will use the Non Parametric Test\n",
    "        ttest = stats.mannwhitneyu(group_A[var], group_B[var])\n",
    "        # H0: VARA == VARB\n",
    "        # H1: VARA != VARB\n",
    "\n",
    "    \n",
    "    \n",
    "    #summary\n",
    "    pvalue = round(ttest[1],3)\n",
    "    if pvalue <= 0.5:\n",
    "        print(f\"testing the {var}: pval is {pvalue}, hence there we can reject the null hypothesis.\"\n",
    "              \"\\ni.e there is a statistical significance between version_A & version_B\")\n",
    "\n",
    "    else:\n",
    "        print(f\"testing {var}: pval is {pvalue}, hence there is we accept the null hypothesis.\"\n",
    "              \"\\ni.e there is no statistical significance between version_A & version_B\")\n",
    "    time.sleep(20)"
   ]
  },
  {
   "cell_type": "code",
   "execution_count": 77,
   "metadata": {},
   "outputs": [
    {
     "data": {
      "image/png": "[encoded data removed]",
      "text/plain": [
       "<Figure size 1008x576 with 1 Axes>"
      ]
     },
     "metadata": {
      "needs_background": "light"
     },
     "output_type": "display_data"
    },
    {
     "name": "stdout",
     "output_type": "stream",
     "text": [
      "Shapiro_Wilk_Test:\n",
      "\tGroupֹA pval=0.0 ,GroupֹB pval=0.0\n",
      "\n",
      "\n",
      "\n",
      "testing the retention_7: pval is 0.001, hence there we can reject the null hypothesis.\n",
      "i.e there is a statistical significance between version_A & version_B\n"
     ]
    }
   ],
   "source": [
    "for var in variables:\n",
    "    clear_output()\n",
    "    fig,axes = plt.subplots(1,1,figsize=(14,8))\n",
    "    axes.set_title(f\"A/B Testing for {var}\",fontsize=16)\n",
    "    sns.kdeplot(group_A[var] , color=\"red\", label=\"gate_30\",ax=axes,fill=True)\n",
    "    sns.kdeplot(group_B[var] , color=\"blue\", label=\"gate_40\",ax=axes,fill=True)\n",
    "    axes.legend(loc=0,fontsize='medium')\n",
    "    axes.set_ylabel('')\n",
    "    axes.set_xlabel('')\n",
    "\n",
    "    plt.show();\n",
    "    AB_test(group_A,group_B,var)"
   ]
  },
  {
   "cell_type": "code",
   "execution_count": 78,
   "metadata": {},
   "outputs": [
    {
     "data": {
      "text/html": [
       "<div>\n",
       "<style scoped>\n",
       "    .dataframe tbody tr th:only-of-type {\n",
       "        vertical-align: middle;\n",
       "    }\n",
       "\n",
       "    .dataframe tbody tr th {\n",
       "        vertical-align: top;\n",
       "    }\n",
       "\n",
       "    .dataframe thead th {\n",
       "        text-align: right;\n",
       "    }\n",
       "</style>\n",
       "<table border=\"1\" class=\"dataframe\">\n",
       "  <thead>\n",
       "    <tr style=\"text-align: right;\">\n",
       "      <th></th>\n",
       "      <th>sum_gamerounds</th>\n",
       "      <th>retention_1</th>\n",
       "      <th>retention_7</th>\n",
       "    </tr>\n",
       "    <tr>\n",
       "      <th>version</th>\n",
       "      <th></th>\n",
       "      <th></th>\n",
       "      <th></th>\n",
       "    </tr>\n",
       "  </thead>\n",
       "  <tbody>\n",
       "    <tr>\n",
       "      <th>gate_30</th>\n",
       "      <td>51.342111</td>\n",
       "      <td>0.448198</td>\n",
       "      <td>0.190183</td>\n",
       "    </tr>\n",
       "    <tr>\n",
       "      <th>gate_40</th>\n",
       "      <td>51.298776</td>\n",
       "      <td>0.442283</td>\n",
       "      <td>0.182000</td>\n",
       "    </tr>\n",
       "  </tbody>\n",
       "</table>\n",
       "</div>"
      ],
      "text/plain": [
       "         sum_gamerounds  retention_1  retention_7\n",
       "version                                          \n",
       "gate_30       51.342111     0.448198     0.190183\n",
       "gate_40       51.298776     0.442283     0.182000"
      ]
     },
     "execution_count": 78,
     "metadata": {},
     "output_type": "execute_result"
    }
   ],
   "source": [
    "df[['sum_gamerounds','retention_1','retention_7','version']].groupby('version').mean()"
   ]
  },
  {
   "cell_type": "markdown",
   "metadata": {},
   "source": [
    "#### We can see there is a statistical significance for each of the vars. we can also see in final table above that gate_30 is performing better in all 3 parameters.\n",
    "\n",
    "therefore my reccomendation based on the statistical results would be to continue with gate_30."
   ]
  },
  {
   "cell_type": "code",
   "execution_count": null,
   "metadata": {},
   "outputs": [],
   "source": []
  }
 ],
 "metadata": {
  "colab": {
   "authorship_tag": "ABX9TyNA1/fqhcibWI2nMChKNmTo",
   "collapsed_sections": [],
   "name": "Untitled0.ipynb",
   "provenance": []
  },
  "kernelspec": {
   "display_name": "Python 3",
   "language": "python",
   "name": "python3"
  },
  "language_info": {
   "codemirror_mode": {
    "name": "ipython",
    "version": 3
   },
   "file_extension": ".py",
   "mimetype": "text/x-python",
   "name": "python",
   "nbconvert_exporter": "python",
   "pygments_lexer": "ipython3",
   "version": "3.8.3"
  }
 },
 "nbformat": 4,
 "nbformat_minor": 1
}
